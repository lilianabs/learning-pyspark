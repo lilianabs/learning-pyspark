{
 "cells": [
  {
   "cell_type": "code",
   "execution_count": 1,
   "id": "d2f48bcf-3aa3-45ae-8400-f2711b6eae4f",
   "metadata": {
    "tags": []
   },
   "outputs": [],
   "source": [
    "from pyspark.sql import SparkSession\n",
    "\n",
    "import pyspark.sql.functions as F\n",
    "import pyspark.sql.types as T"
   ]
  },
  {
   "cell_type": "code",
   "execution_count": 2,
   "id": "0197a315-10b3-4d17-aad0-aca6a24657b1",
   "metadata": {
    "tags": []
   },
   "outputs": [],
   "source": [
    "spark = SparkSession.builder.getOrCreate()\n",
    "spark.conf.set(\"spark.sql.repl.eagerEval.enabled\", True) # Format output tables better"
   ]
  },
  {
   "cell_type": "code",
   "execution_count": 3,
   "id": "c52a2fd4-9b19-477e-9874-eb251ffbd621",
   "metadata": {
    "tags": []
   },
   "outputs": [
    {
     "data": {
      "text/html": [
       "\n",
       "            <div>\n",
       "                <p><b>SparkSession - in-memory</b></p>\n",
       "                \n",
       "        <div>\n",
       "            <p><b>SparkContext</b></p>\n",
       "\n",
       "            <p><a href=\"http://e875ec9cdb84:4040\">Spark UI</a></p>\n",
       "\n",
       "            <dl>\n",
       "              <dt>Version</dt>\n",
       "                <dd><code>v3.3.2</code></dd>\n",
       "              <dt>Master</dt>\n",
       "                <dd><code>local[*]</code></dd>\n",
       "              <dt>AppName</dt>\n",
       "                <dd><code>pyspark-shell</code></dd>\n",
       "            </dl>\n",
       "        </div>\n",
       "        \n",
       "            </div>\n",
       "        "
      ],
      "text/plain": [
       "<pyspark.sql.session.SparkSession at 0xffffb2c4c670>"
      ]
     },
     "execution_count": 3,
     "metadata": {},
     "output_type": "execute_result"
    }
   ],
   "source": [
    "spark"
   ]
  },
  {
   "cell_type": "code",
   "execution_count": 4,
   "id": "f1490643-4c39-4af7-97b3-b329f08e7fa9",
   "metadata": {
    "tags": []
   },
   "outputs": [],
   "source": [
    "df = spark.read.csv(\"data/ecommerce.csv\", header=True)"
   ]
  },
  {
   "cell_type": "code",
   "execution_count": 5,
   "id": "792267ae-0493-4ad1-8966-60264edd6e66",
   "metadata": {
    "tags": []
   },
   "outputs": [
    {
     "name": "stdout",
     "output_type": "stream",
     "text": [
      "+---------+---------+--------------------+--------+--------------+---------+----------+--------------+\n",
      "|InvoiceNo|StockCode|         Description|Quantity|   InvoiceDate|UnitPrice|CustomerID|       Country|\n",
      "+---------+---------+--------------------+--------+--------------+---------+----------+--------------+\n",
      "|   536365|   85123A|WHITE HANGING HEA...|       6|12/1/2010 8:26|     2.55|     17850|United Kingdom|\n",
      "|   536365|    71053| WHITE METAL LANTERN|       6|12/1/2010 8:26|     3.39|     17850|United Kingdom|\n",
      "|   536365|   84406B|CREAM CUPID HEART...|       8|12/1/2010 8:26|     2.75|     17850|United Kingdom|\n",
      "|   536365|   84029G|KNITTED UNION FLA...|       6|12/1/2010 8:26|     3.39|     17850|United Kingdom|\n",
      "|   536365|   84029E|RED WOOLLY HOTTIE...|       6|12/1/2010 8:26|     3.39|     17850|United Kingdom|\n",
      "|   536365|    22752|SET 7 BABUSHKA NE...|       2|12/1/2010 8:26|     7.65|     17850|United Kingdom|\n",
      "|   536365|    21730|GLASS STAR FROSTE...|       6|12/1/2010 8:26|     4.25|     17850|United Kingdom|\n",
      "|   536366|    22633|HAND WARMER UNION...|       6|12/1/2010 8:28|     1.85|     17850|United Kingdom|\n",
      "|   536366|    22632|HAND WARMER RED P...|       6|12/1/2010 8:28|     1.85|     17850|United Kingdom|\n",
      "|   536367|    84879|ASSORTED COLOUR B...|      32|12/1/2010 8:34|     1.69|     13047|United Kingdom|\n",
      "|   536367|    22745|POPPY'S PLAYHOUSE...|       6|12/1/2010 8:34|      2.1|     13047|United Kingdom|\n",
      "|   536367|    22748|POPPY'S PLAYHOUSE...|       6|12/1/2010 8:34|      2.1|     13047|United Kingdom|\n",
      "|   536367|    22749|FELTCRAFT PRINCES...|       8|12/1/2010 8:34|     3.75|     13047|United Kingdom|\n",
      "|   536367|    22310|IVORY KNITTED MUG...|       6|12/1/2010 8:34|     1.65|     13047|United Kingdom|\n",
      "|   536367|    84969|BOX OF 6 ASSORTED...|       6|12/1/2010 8:34|     4.25|     13047|United Kingdom|\n",
      "|   536367|    22623|BOX OF VINTAGE JI...|       3|12/1/2010 8:34|     4.95|     13047|United Kingdom|\n",
      "|   536367|    22622|BOX OF VINTAGE AL...|       2|12/1/2010 8:34|     9.95|     13047|United Kingdom|\n",
      "|   536367|    21754|HOME BUILDING BLO...|       3|12/1/2010 8:34|     5.95|     13047|United Kingdom|\n",
      "|   536367|    21755|LOVE BUILDING BLO...|       3|12/1/2010 8:34|     5.95|     13047|United Kingdom|\n",
      "|   536367|    21777|RECIPE BOX WITH M...|       4|12/1/2010 8:34|     7.95|     13047|United Kingdom|\n",
      "+---------+---------+--------------------+--------+--------------+---------+----------+--------------+\n",
      "only showing top 20 rows\n",
      "\n"
     ]
    }
   ],
   "source": [
    "df.show()"
   ]
  },
  {
   "cell_type": "markdown",
   "id": "e7395c89-f80c-495d-b80e-4ac6f7eade96",
   "metadata": {},
   "source": [
    "## Exploratory data analysis"
   ]
  },
  {
   "cell_type": "code",
   "execution_count": 6,
   "id": "1e66a127-c822-4f74-a7b8-236fbbe96648",
   "metadata": {
    "tags": []
   },
   "outputs": [
    {
     "data": {
      "text/plain": [
       "541909"
      ]
     },
     "execution_count": 6,
     "metadata": {},
     "output_type": "execute_result"
    }
   ],
   "source": [
    "df.count()"
   ]
  },
  {
   "cell_type": "markdown",
   "id": "06ab3ada-641a-49f7-b429-a4e7316c153c",
   "metadata": {},
   "source": [
    "How many unique customers are present in dataset?"
   ]
  },
  {
   "cell_type": "code",
   "execution_count": 7,
   "id": "1383eb59-77c5-4c44-8b5b-50c03ae07d5c",
   "metadata": {
    "tags": []
   },
   "outputs": [
    {
     "data": {
      "text/plain": [
       "4373"
      ]
     },
     "execution_count": 7,
     "metadata": {},
     "output_type": "execute_result"
    }
   ],
   "source": [
    "df.select('CustomerID').distinct().count()"
   ]
  },
  {
   "cell_type": "markdown",
   "id": "6ffc6aeb-de6f-4af3-a059-c3718ac9b0fa",
   "metadata": {},
   "source": [
    "Wich country do most purchases come from?"
   ]
  },
  {
   "cell_type": "markdown",
   "id": "5a957ad7-3416-43e7-82c8-621703de6f87",
   "metadata": {
    "tags": []
   },
   "source": [
    "df.groupBy('Country').agg(F.countDistinct('CustomerID').alias('country_count')).orderBy(F.desc('country_count')).show()"
   ]
  },
  {
   "cell_type": "markdown",
   "id": "58c1bc53-7ca1-4ff8-b7df-8e939df7ef47",
   "metadata": {},
   "source": [
    "When was the most recent purchase made by a customer in the e-commerce platform?"
   ]
  },
  {
   "cell_type": "code",
   "execution_count": 8,
   "id": "c3c66643-2f72-499e-b88e-489fcc7a0d47",
   "metadata": {
    "tags": []
   },
   "outputs": [
    {
     "data": {
      "text/html": [
       "<table border='1'>\n",
       "<tr><th>key</th><th>value</th></tr>\n",
       "<tr><td>spark.sql.legacy....</td><td>LEGACY</td></tr>\n",
       "</table>\n"
      ],
      "text/plain": [
       "+--------------------+------+\n",
       "|                 key| value|\n",
       "+--------------------+------+\n",
       "|spark.sql.legacy....|LEGACY|\n",
       "+--------------------+------+"
      ]
     },
     "execution_count": 8,
     "metadata": {},
     "output_type": "execute_result"
    }
   ],
   "source": [
    "spark.sql(\"set spark.sql.legacy.timeParserPolicy=LEGACY\")"
   ]
  },
  {
   "cell_type": "code",
   "execution_count": 9,
   "id": "d43d3aab-89c7-4478-babe-86c560059977",
   "metadata": {
    "tags": []
   },
   "outputs": [],
   "source": [
    "df = df.withColumn('date', F.to_timestamp(\"InvoiceDate\", \"MM/dd/yy HH:mm\"))"
   ]
  },
  {
   "cell_type": "code",
   "execution_count": 10,
   "id": "089e9ffe-9039-48c5-a331-5ce2e28fb24e",
   "metadata": {
    "tags": []
   },
   "outputs": [
    {
     "name": "stdout",
     "output_type": "stream",
     "text": [
      "+-------------------+\n",
      "|          max(date)|\n",
      "+-------------------+\n",
      "|2011-12-09 12:50:00|\n",
      "+-------------------+\n",
      "\n"
     ]
    }
   ],
   "source": [
    "df.select(F.max(\"date\")).show()"
   ]
  },
  {
   "cell_type": "markdown",
   "id": "8e78e7eb-4f75-432a-be64-a5b0d0976cf6",
   "metadata": {},
   "source": [
    "When was the earliest purchase made by a customer in the e-commerce platform?"
   ]
  },
  {
   "cell_type": "code",
   "execution_count": 11,
   "id": "e1f5c9ce-4ff8-4f36-a94a-7067acc5371e",
   "metadata": {
    "tags": []
   },
   "outputs": [
    {
     "name": "stdout",
     "output_type": "stream",
     "text": [
      "+-------------------+\n",
      "|          min(date)|\n",
      "+-------------------+\n",
      "|2010-12-01 08:26:00|\n",
      "+-------------------+\n",
      "\n"
     ]
    }
   ],
   "source": [
    "df.select(F.min(\"date\")).show()"
   ]
  },
  {
   "cell_type": "markdown",
   "id": "e763615e-02de-417e-98d9-1a5169d47b0e",
   "metadata": {},
   "source": [
    "## Data Pre-processing"
   ]
  },
  {
   "cell_type": "code",
   "execution_count": 12,
   "id": "c09ce645-9b78-476a-bfce-bd28404a9ddf",
   "metadata": {
    "tags": []
   },
   "outputs": [
    {
     "name": "stdout",
     "output_type": "stream",
     "text": [
      "+---------+---------+--------------------+--------+--------------+---------+----------+--------------+-------------------+\n",
      "|InvoiceNo|StockCode|         Description|Quantity|   InvoiceDate|UnitPrice|CustomerID|       Country|               date|\n",
      "+---------+---------+--------------------+--------+--------------+---------+----------+--------------+-------------------+\n",
      "|   536365|   85123A|WHITE HANGING HEA...|       6|12/1/2010 8:26|     2.55|     17850|United Kingdom|2010-12-01 08:26:00|\n",
      "|   536365|    71053| WHITE METAL LANTERN|       6|12/1/2010 8:26|     3.39|     17850|United Kingdom|2010-12-01 08:26:00|\n",
      "|   536365|   84406B|CREAM CUPID HEART...|       8|12/1/2010 8:26|     2.75|     17850|United Kingdom|2010-12-01 08:26:00|\n",
      "|   536365|   84029G|KNITTED UNION FLA...|       6|12/1/2010 8:26|     3.39|     17850|United Kingdom|2010-12-01 08:26:00|\n",
      "|   536365|   84029E|RED WOOLLY HOTTIE...|       6|12/1/2010 8:26|     3.39|     17850|United Kingdom|2010-12-01 08:26:00|\n",
      "+---------+---------+--------------------+--------+--------------+---------+----------+--------------+-------------------+\n",
      "only showing top 5 rows\n",
      "\n"
     ]
    }
   ],
   "source": [
    "df.show(5)"
   ]
  },
  {
   "cell_type": "markdown",
   "id": "c95fcdfe-5229-4756-9da2-60d50b2db63b",
   "metadata": {},
   "source": [
    "We will create new features to better capture customer behaviour. \n",
    "\n",
    "**RFM** is commonly used in marketing to evalute a client's value based on their:\n",
    "\n",
    "1. RECENCY: How recently has each customer made a purchase?\n",
    "2. FRECUENCY: How often they bought something?\n",
    "3. MONEARY VALUE: How much money do they spend on average when making purchases?"
   ]
  },
  {
   "cell_type": "markdown",
   "id": "95146837-69a1-4574-910f-4d7df729bf0b",
   "metadata": {},
   "source": [
    "### Recency\n",
    "\n",
    "We will substract every date in the dataframe from the earliest date. This will tell us how recently a customer was seen in the data."
   ]
  },
  {
   "cell_type": "code",
   "execution_count": 13,
   "id": "e5068898-cc31-47ab-a5e1-5895d33ad65b",
   "metadata": {
    "tags": []
   },
   "outputs": [],
   "source": [
    "df = df.withColumn(\"from_date\", F.lit(\"2010-12-01 08:26:00\"))"
   ]
  },
  {
   "cell_type": "code",
   "execution_count": 14,
   "id": "94b8bf85-81a3-46e4-8f6c-4ae7e0b032fb",
   "metadata": {
    "tags": []
   },
   "outputs": [],
   "source": [
    "## Parse date column\n",
    "df = df.withColumn(\"from_date\", F.to_timestamp(\"from_date\", \"yy-MM-dd HH:mm\"))"
   ]
  },
  {
   "cell_type": "code",
   "execution_count": 15,
   "id": "def59ddf-5569-414a-bf31-fee243645e6b",
   "metadata": {
    "tags": []
   },
   "outputs": [],
   "source": [
    "df2 = df.withColumn(\"from_date\", F.to_timestamp(F.col(\"from_date\"))) \\\n",
    "     .withColumn(\"recency\", F.col(\"date\").cast(\"long\") - F.col(\"date\").cast(\"long\"))"
   ]
  },
  {
   "cell_type": "code",
   "execution_count": 17,
   "id": "7d619f7c-3ba5-4fe1-ada3-39ab4b7fc6ab",
   "metadata": {
    "tags": []
   },
   "outputs": [
    {
     "name": "stdout",
     "output_type": "stream",
     "text": [
      "+---------+---------+--------------------+--------+--------------+---------+----------+--------------+-------------------+-------------------+-------+\n",
      "|InvoiceNo|StockCode|         Description|Quantity|   InvoiceDate|UnitPrice|CustomerID|       Country|               date|          from_date|recency|\n",
      "+---------+---------+--------------------+--------+--------------+---------+----------+--------------+-------------------+-------------------+-------+\n",
      "|   536365|   85123A|WHITE HANGING HEA...|       6|12/1/2010 8:26|     2.55|     17850|United Kingdom|2010-12-01 08:26:00|2010-12-01 08:26:00|      0|\n",
      "|   536365|    71053| WHITE METAL LANTERN|       6|12/1/2010 8:26|     3.39|     17850|United Kingdom|2010-12-01 08:26:00|2010-12-01 08:26:00|      0|\n",
      "|   536365|   84406B|CREAM CUPID HEART...|       8|12/1/2010 8:26|     2.75|     17850|United Kingdom|2010-12-01 08:26:00|2010-12-01 08:26:00|      0|\n",
      "|   536365|   84029G|KNITTED UNION FLA...|       6|12/1/2010 8:26|     3.39|     17850|United Kingdom|2010-12-01 08:26:00|2010-12-01 08:26:00|      0|\n",
      "|   536365|   84029E|RED WOOLLY HOTTIE...|       6|12/1/2010 8:26|     3.39|     17850|United Kingdom|2010-12-01 08:26:00|2010-12-01 08:26:00|      0|\n",
      "|   536365|    22752|SET 7 BABUSHKA NE...|       2|12/1/2010 8:26|     7.65|     17850|United Kingdom|2010-12-01 08:26:00|2010-12-01 08:26:00|      0|\n",
      "|   536365|    21730|GLASS STAR FROSTE...|       6|12/1/2010 8:26|     4.25|     17850|United Kingdom|2010-12-01 08:26:00|2010-12-01 08:26:00|      0|\n",
      "|   536366|    22633|HAND WARMER UNION...|       6|12/1/2010 8:28|     1.85|     17850|United Kingdom|2010-12-01 08:28:00|2010-12-01 08:26:00|      0|\n",
      "|   536366|    22632|HAND WARMER RED P...|       6|12/1/2010 8:28|     1.85|     17850|United Kingdom|2010-12-01 08:28:00|2010-12-01 08:26:00|      0|\n",
      "|   536367|    84879|ASSORTED COLOUR B...|      32|12/1/2010 8:34|     1.69|     13047|United Kingdom|2010-12-01 08:34:00|2010-12-01 08:26:00|      0|\n",
      "|   536367|    22745|POPPY'S PLAYHOUSE...|       6|12/1/2010 8:34|      2.1|     13047|United Kingdom|2010-12-01 08:34:00|2010-12-01 08:26:00|      0|\n",
      "|   536367|    22748|POPPY'S PLAYHOUSE...|       6|12/1/2010 8:34|      2.1|     13047|United Kingdom|2010-12-01 08:34:00|2010-12-01 08:26:00|      0|\n",
      "|   536367|    22749|FELTCRAFT PRINCES...|       8|12/1/2010 8:34|     3.75|     13047|United Kingdom|2010-12-01 08:34:00|2010-12-01 08:26:00|      0|\n",
      "|   536367|    22310|IVORY KNITTED MUG...|       6|12/1/2010 8:34|     1.65|     13047|United Kingdom|2010-12-01 08:34:00|2010-12-01 08:26:00|      0|\n",
      "|   536367|    84969|BOX OF 6 ASSORTED...|       6|12/1/2010 8:34|     4.25|     13047|United Kingdom|2010-12-01 08:34:00|2010-12-01 08:26:00|      0|\n",
      "|   536367|    22623|BOX OF VINTAGE JI...|       3|12/1/2010 8:34|     4.95|     13047|United Kingdom|2010-12-01 08:34:00|2010-12-01 08:26:00|      0|\n",
      "|   536367|    22622|BOX OF VINTAGE AL...|       2|12/1/2010 8:34|     9.95|     13047|United Kingdom|2010-12-01 08:34:00|2010-12-01 08:26:00|      0|\n",
      "|   536367|    21754|HOME BUILDING BLO...|       3|12/1/2010 8:34|     5.95|     13047|United Kingdom|2010-12-01 08:34:00|2010-12-01 08:26:00|      0|\n",
      "|   536367|    21755|LOVE BUILDING BLO...|       3|12/1/2010 8:34|     5.95|     13047|United Kingdom|2010-12-01 08:34:00|2010-12-01 08:26:00|      0|\n",
      "|   536367|    21777|RECIPE BOX WITH M...|       4|12/1/2010 8:34|     7.95|     13047|United Kingdom|2010-12-01 08:34:00|2010-12-01 08:26:00|      0|\n",
      "+---------+---------+--------------------+--------+--------------+---------+----------+--------------+-------------------+-------------------+-------+\n",
      "only showing top 20 rows\n",
      "\n"
     ]
    }
   ],
   "source": [
    "df2.show()"
   ]
  },
  {
   "cell_type": "code",
   "execution_count": 19,
   "id": "d7ed49d0-1c00-4c20-9be6-f40477dff009",
   "metadata": {
    "tags": []
   },
   "outputs": [],
   "source": [
    "# Select the most recent purchase\n",
    "df2 = df2.join(df2.groupby(\"CustomerID\") \\\n",
    "                   .agg(F.max(\"recency\").alias(\"recency\")), on=\"recency\", how='leftsemi')"
   ]
  },
  {
   "cell_type": "code",
   "execution_count": 20,
   "id": "90bb942a-2cb4-42a9-a490-c04d71ca53b5",
   "metadata": {
    "tags": []
   },
   "outputs": [
    {
     "name": "stdout",
     "output_type": "stream",
     "text": [
      "+-------+---------+---------+--------------------+--------+--------------+---------+----------+--------------+-------------------+-------------------+\n",
      "|recency|InvoiceNo|StockCode|         Description|Quantity|   InvoiceDate|UnitPrice|CustomerID|       Country|               date|          from_date|\n",
      "+-------+---------+---------+--------------------+--------+--------------+---------+----------+--------------+-------------------+-------------------+\n",
      "|      0|   536365|   85123A|WHITE HANGING HEA...|       6|12/1/2010 8:26|     2.55|     17850|United Kingdom|2010-12-01 08:26:00|2010-12-01 08:26:00|\n",
      "|      0|   536365|    71053| WHITE METAL LANTERN|       6|12/1/2010 8:26|     3.39|     17850|United Kingdom|2010-12-01 08:26:00|2010-12-01 08:26:00|\n",
      "|      0|   536365|   84406B|CREAM CUPID HEART...|       8|12/1/2010 8:26|     2.75|     17850|United Kingdom|2010-12-01 08:26:00|2010-12-01 08:26:00|\n",
      "|      0|   536365|   84029G|KNITTED UNION FLA...|       6|12/1/2010 8:26|     3.39|     17850|United Kingdom|2010-12-01 08:26:00|2010-12-01 08:26:00|\n",
      "|      0|   536365|   84029E|RED WOOLLY HOTTIE...|       6|12/1/2010 8:26|     3.39|     17850|United Kingdom|2010-12-01 08:26:00|2010-12-01 08:26:00|\n",
      "+-------+---------+---------+--------------------+--------+--------------+---------+----------+--------------+-------------------+-------------------+\n",
      "only showing top 5 rows\n",
      "\n"
     ]
    }
   ],
   "source": [
    "df2.show(5)"
   ]
  },
  {
   "cell_type": "markdown",
   "id": "72149809-0040-4aae-ad87-2b8b8df44ab5",
   "metadata": {},
   "source": [
    "### Frequency\n",
    "\n",
    "How often a customer bought something on the platform."
   ]
  },
  {
   "cell_type": "code",
   "execution_count": 22,
   "id": "331f8dd7-1276-4c45-8e32-a3760f655a76",
   "metadata": {
    "tags": []
   },
   "outputs": [],
   "source": [
    "df_freq = df2.groupBy('CustomerID').agg(F.count(\"InvoiceDate\").alias(\"frequency\"))"
   ]
  },
  {
   "cell_type": "code",
   "execution_count": 23,
   "id": "d82680f5-216c-4909-9a73-1b1b3a4b0929",
   "metadata": {
    "tags": []
   },
   "outputs": [
    {
     "name": "stdout",
     "output_type": "stream",
     "text": [
      "+----------+---------+\n",
      "|CustomerID|frequency|\n",
      "+----------+---------+\n",
      "|     16250|       24|\n",
      "|     15574|      168|\n",
      "|     15555|      925|\n",
      "|     15271|      275|\n",
      "|     17714|       10|\n",
      "|     17686|      286|\n",
      "|     13865|       30|\n",
      "|     14157|       49|\n",
      "|     13610|      228|\n",
      "|     17757|      742|\n",
      "|     17551|       43|\n",
      "|     13187|       37|\n",
      "|     16549|      981|\n",
      "|     12637|      394|\n",
      "|     15052|       30|\n",
      "|     15448|       28|\n",
      "|     13985|      353|\n",
      "|     12888|        7|\n",
      "|     14525|      298|\n",
      "|     18283|      756|\n",
      "+----------+---------+\n",
      "only showing top 20 rows\n",
      "\n"
     ]
    }
   ],
   "source": [
    "df_freq.show()"
   ]
  },
  {
   "cell_type": "code",
   "execution_count": 24,
   "id": "e8530455-37e4-46bf-8c16-63effc624645",
   "metadata": {
    "tags": []
   },
   "outputs": [],
   "source": [
    "# Join back to the original dataframe\n",
    "df3 = df2.join(df_freq, on=\"CustomerID\", how=\"inner\")"
   ]
  },
  {
   "cell_type": "code",
   "execution_count": 25,
   "id": "978ebea9-887e-440d-be90-80d19891997d",
   "metadata": {
    "tags": []
   },
   "outputs": [
    {
     "name": "stdout",
     "output_type": "stream",
     "text": [
      "+----------+-------+---------+---------+--------------------+--------+--------------+---------+--------------+-------------------+-------------------+---------+\n",
      "|CustomerID|recency|InvoiceNo|StockCode|         Description|Quantity|   InvoiceDate|UnitPrice|       Country|               date|          from_date|frequency|\n",
      "+----------+-------+---------+---------+--------------------+--------+--------------+---------+--------------+-------------------+-------------------+---------+\n",
      "|     17850|      0|   536365|   85123A|WHITE HANGING HEA...|       6|12/1/2010 8:26|     2.55|United Kingdom|2010-12-01 08:26:00|2010-12-01 08:26:00|      312|\n",
      "|     17850|      0|   536365|    71053| WHITE METAL LANTERN|       6|12/1/2010 8:26|     3.39|United Kingdom|2010-12-01 08:26:00|2010-12-01 08:26:00|      312|\n",
      "|     17850|      0|   536365|   84406B|CREAM CUPID HEART...|       8|12/1/2010 8:26|     2.75|United Kingdom|2010-12-01 08:26:00|2010-12-01 08:26:00|      312|\n",
      "|     17850|      0|   536365|   84029G|KNITTED UNION FLA...|       6|12/1/2010 8:26|     3.39|United Kingdom|2010-12-01 08:26:00|2010-12-01 08:26:00|      312|\n",
      "|     17850|      0|   536365|   84029E|RED WOOLLY HOTTIE...|       6|12/1/2010 8:26|     3.39|United Kingdom|2010-12-01 08:26:00|2010-12-01 08:26:00|      312|\n",
      "|     17850|      0|   536365|    22752|SET 7 BABUSHKA NE...|       2|12/1/2010 8:26|     7.65|United Kingdom|2010-12-01 08:26:00|2010-12-01 08:26:00|      312|\n",
      "|     17850|      0|   536365|    21730|GLASS STAR FROSTE...|       6|12/1/2010 8:26|     4.25|United Kingdom|2010-12-01 08:26:00|2010-12-01 08:26:00|      312|\n",
      "|     17850|      0|   536366|    22633|HAND WARMER UNION...|       6|12/1/2010 8:28|     1.85|United Kingdom|2010-12-01 08:28:00|2010-12-01 08:26:00|      312|\n",
      "|     17850|      0|   536366|    22632|HAND WARMER RED P...|       6|12/1/2010 8:28|     1.85|United Kingdom|2010-12-01 08:28:00|2010-12-01 08:26:00|      312|\n",
      "|     13047|      0|   536367|    84879|ASSORTED COLOUR B...|      32|12/1/2010 8:34|     1.69|United Kingdom|2010-12-01 08:34:00|2010-12-01 08:26:00|      196|\n",
      "|     13047|      0|   536367|    22745|POPPY'S PLAYHOUSE...|       6|12/1/2010 8:34|      2.1|United Kingdom|2010-12-01 08:34:00|2010-12-01 08:26:00|      196|\n",
      "|     13047|      0|   536367|    22748|POPPY'S PLAYHOUSE...|       6|12/1/2010 8:34|      2.1|United Kingdom|2010-12-01 08:34:00|2010-12-01 08:26:00|      196|\n",
      "|     13047|      0|   536367|    22749|FELTCRAFT PRINCES...|       8|12/1/2010 8:34|     3.75|United Kingdom|2010-12-01 08:34:00|2010-12-01 08:26:00|      196|\n",
      "|     13047|      0|   536367|    22310|IVORY KNITTED MUG...|       6|12/1/2010 8:34|     1.65|United Kingdom|2010-12-01 08:34:00|2010-12-01 08:26:00|      196|\n",
      "|     13047|      0|   536367|    84969|BOX OF 6 ASSORTED...|       6|12/1/2010 8:34|     4.25|United Kingdom|2010-12-01 08:34:00|2010-12-01 08:26:00|      196|\n",
      "|     13047|      0|   536367|    22623|BOX OF VINTAGE JI...|       3|12/1/2010 8:34|     4.95|United Kingdom|2010-12-01 08:34:00|2010-12-01 08:26:00|      196|\n",
      "|     13047|      0|   536367|    22622|BOX OF VINTAGE AL...|       2|12/1/2010 8:34|     9.95|United Kingdom|2010-12-01 08:34:00|2010-12-01 08:26:00|      196|\n",
      "|     13047|      0|   536367|    21754|HOME BUILDING BLO...|       3|12/1/2010 8:34|     5.95|United Kingdom|2010-12-01 08:34:00|2010-12-01 08:26:00|      196|\n",
      "|     13047|      0|   536367|    21755|LOVE BUILDING BLO...|       3|12/1/2010 8:34|     5.95|United Kingdom|2010-12-01 08:34:00|2010-12-01 08:26:00|      196|\n",
      "|     13047|      0|   536367|    21777|RECIPE BOX WITH M...|       4|12/1/2010 8:34|     7.95|United Kingdom|2010-12-01 08:34:00|2010-12-01 08:26:00|      196|\n",
      "+----------+-------+---------+---------+--------------------+--------+--------------+---------+--------------+-------------------+-------------------+---------+\n",
      "only showing top 20 rows\n",
      "\n"
     ]
    }
   ],
   "source": [
    "df3.show()"
   ]
  },
  {
   "cell_type": "markdown",
   "id": "facf4150-df6a-47f6-8edb-b3527dab1d1c",
   "metadata": {},
   "source": [
    "## Monetary value\n",
    "\n",
    "We calculate the total amount spent by each customer."
   ]
  },
  {
   "cell_type": "code",
   "execution_count": 26,
   "id": "4cf8a1a5-cadf-4adf-ae0b-45761c17bb18",
   "metadata": {
    "tags": []
   },
   "outputs": [],
   "source": [
    "m_val = df3.withColumn(\"TotalAmount\", F.col(\"Quantity\") * F.col(\"UnitPrice\"))"
   ]
  },
  {
   "cell_type": "code",
   "execution_count": 28,
   "id": "5e973912-8ddf-4ec2-8516-a220cf702822",
   "metadata": {
    "tags": []
   },
   "outputs": [],
   "source": [
    "m_val = m_val.groupBy(\"CustomerID\").agg(F.sum(\"TotalAmount\").alias(\"monetary_value\"))"
   ]
  },
  {
   "cell_type": "code",
   "execution_count": 30,
   "id": "241ea482-43b7-4886-b16e-baab08cae64a",
   "metadata": {
    "tags": []
   },
   "outputs": [],
   "source": [
    "final_df = m_val.join(df3, on=\"CustomerID\", how=\"inner\")"
   ]
  },
  {
   "cell_type": "code",
   "execution_count": 31,
   "id": "81395106-72a9-41cf-b213-b2d9ca6aeb4d",
   "metadata": {
    "tags": []
   },
   "outputs": [],
   "source": [
    "# Select only the required columns\n",
    "final_df = final_df.select([\"recency\", \"frequency\", \"monetary_value\", \"CustomerID\"]).distinct()"
   ]
  },
  {
   "cell_type": "code",
   "execution_count": 32,
   "id": "b718fb19-ed17-4484-b1bc-dc97d004c4cd",
   "metadata": {
    "tags": []
   },
   "outputs": [
    {
     "name": "stdout",
     "output_type": "stream",
     "text": [
      "+-------+---------+------------------+----------+\n",
      "|recency|frequency|    monetary_value|CustomerID|\n",
      "+-------+---------+------------------+----------+\n",
      "|      0|       24|389.44000000000005|     16250|\n",
      "|      0|      168| 702.2500000000002|     15574|\n",
      "|      0|      925|4758.2000000000035|     15555|\n",
      "|      0|      275|           2485.82|     15271|\n",
      "|      0|       10|             153.0|     17714|\n",
      "|      0|      286|           5739.46|     17686|\n",
      "|      0|       30|501.56000000000006|     13865|\n",
      "|      0|       49| 400.4300000000001|     14157|\n",
      "|      0|      228|1115.4299999999996|     13610|\n",
      "|      0|      742| 5585.490000000003|     17757|\n",
      "|      0|       43|            306.84|     17551|\n",
      "|      0|       37|236.01999999999995|     13187|\n",
      "|      0|      981|           4154.64|     16549|\n",
      "|      0|      394| 5953.250000000001|     12637|\n",
      "|      0|       30|            215.78|     15052|\n",
      "|      0|       28|494.64000000000004|     15448|\n",
      "|      0|      353| 7024.529999999999|     13985|\n",
      "|      0|        7|            313.77|     12888|\n",
      "|      0|      298| 4221.370000000001|     14525|\n",
      "|      0|      756|2094.8799999999997|     18283|\n",
      "+-------+---------+------------------+----------+\n",
      "only showing top 20 rows\n",
      "\n"
     ]
    }
   ],
   "source": [
    "final_df.show()"
   ]
  },
  {
   "cell_type": "markdown",
   "id": "60a24b66-01c6-440c-8cce-e525a4b9d247",
   "metadata": {},
   "source": [
    "## Train model\n",
    "\n",
    "Before training the model, we standarize the data to ensure all variables have the same scale."
   ]
  },
  {
   "cell_type": "code",
   "execution_count": 34,
   "id": "2d8a1b8f-89e8-4a92-bb55-585f3bb1ab23",
   "metadata": {
    "tags": []
   },
   "outputs": [],
   "source": [
    "from pyspark.ml.feature import VectorAssembler\n",
    "from pyspark.ml.feature import StandardScaler"
   ]
  },
  {
   "cell_type": "code",
   "execution_count": 37,
   "id": "c27fda2d-651b-499a-81c0-664d63266869",
   "metadata": {
    "tags": []
   },
   "outputs": [],
   "source": [
    "assemble = VectorAssembler(\n",
    "    inputCols=[\n",
    "        \"recency\", \"frequency\", \n",
    "        \"monetary_value\"\n",
    "    ], outputCol=\"features\"\n",
    ")"
   ]
  },
  {
   "cell_type": "code",
   "execution_count": 38,
   "id": "0ffad791-4f33-4df5-9580-90baf0778040",
   "metadata": {
    "tags": []
   },
   "outputs": [],
   "source": [
    "assembled_data = assemble.transform(final_df)"
   ]
  },
  {
   "cell_type": "code",
   "execution_count": 39,
   "id": "87ff9427-3247-4384-b079-ebc8af5a6d8e",
   "metadata": {
    "tags": []
   },
   "outputs": [],
   "source": [
    "scale = StandardScaler(inputCol=\"features\", outputCol=\"standardized\")\n",
    "data_scale = scale.fit(assembled_data)\n",
    "data_scale_output = data_scale.transform(assembled_data)"
   ]
  },
  {
   "cell_type": "code",
   "execution_count": 40,
   "id": "4b378750-a717-4d3b-b034-5de4948709c8",
   "metadata": {
    "tags": []
   },
   "outputs": [
    {
     "name": "stdout",
     "output_type": "stream",
     "text": [
      "+---------------------------------------------+\n",
      "|standardized                                 |\n",
      "+---------------------------------------------+\n",
      "|[0.0,0.10323841364177115,0.04738090362627903]|\n",
      "|[0.0,0.7226688954923981,0.08543868008307944] |\n",
      "+---------------------------------------------+\n",
      "only showing top 2 rows\n",
      "\n"
     ]
    }
   ],
   "source": [
    "# check how the standardied vector looks like\n",
    "data_scale_output.select(\"standardized\").show(2, truncate=False)"
   ]
  },
  {
   "cell_type": "code",
   "execution_count": null,
   "id": "bbebfaeb-a568-4835-9277-c2ce97839dcc",
   "metadata": {},
   "outputs": [],
   "source": []
  }
 ],
 "metadata": {
  "kernelspec": {
   "display_name": "Python 3 (ipykernel)",
   "language": "python",
   "name": "python3"
  },
  "language_info": {
   "codemirror_mode": {
    "name": "ipython",
    "version": 3
   },
   "file_extension": ".py",
   "mimetype": "text/x-python",
   "name": "python",
   "nbconvert_exporter": "python",
   "pygments_lexer": "ipython3",
   "version": "3.10.10"
  }
 },
 "nbformat": 4,
 "nbformat_minor": 5
}
