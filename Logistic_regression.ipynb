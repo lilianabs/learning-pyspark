{
 "cells": [
  {
   "cell_type": "code",
   "execution_count": 1,
   "id": "daf76a3e-b4f8-4fd2-8484-36a86eb7123f",
   "metadata": {
    "tags": []
   },
   "outputs": [],
   "source": [
    "from pyspark.sql import SparkSession\n",
    "import pyspark.sql.functions as F\n",
    "import pyspark.sql.types as T"
   ]
  },
  {
   "cell_type": "code",
   "execution_count": 2,
   "id": "2ffcbc45-5731-40fb-97ab-81cc462a9a14",
   "metadata": {
    "tags": []
   },
   "outputs": [],
   "source": [
    "spark = SparkSession.builder.getOrCreate()"
   ]
  },
  {
   "cell_type": "code",
   "execution_count": 3,
   "id": "e0cb2525-3f0f-4667-bdf9-20e3cc41ec00",
   "metadata": {
    "tags": []
   },
   "outputs": [
    {
     "data": {
      "text/html": [
       "\n",
       "            <div>\n",
       "                <p><b>SparkSession - in-memory</b></p>\n",
       "                \n",
       "        <div>\n",
       "            <p><b>SparkContext</b></p>\n",
       "\n",
       "            <p><a href=\"http://5d4704c7ea28:4040\">Spark UI</a></p>\n",
       "\n",
       "            <dl>\n",
       "              <dt>Version</dt>\n",
       "                <dd><code>v3.3.2</code></dd>\n",
       "              <dt>Master</dt>\n",
       "                <dd><code>local[*]</code></dd>\n",
       "              <dt>AppName</dt>\n",
       "                <dd><code>pyspark-shell</code></dd>\n",
       "            </dl>\n",
       "        </div>\n",
       "        \n",
       "            </div>\n",
       "        "
      ],
      "text/plain": [
       "<pyspark.sql.session.SparkSession at 0xffffae110670>"
      ]
     },
     "execution_count": 3,
     "metadata": {},
     "output_type": "execute_result"
    }
   ],
   "source": [
    "spark"
   ]
  },
  {
   "cell_type": "code",
   "execution_count": 4,
   "id": "eb181df3-78f4-4acb-b421-4d7e8219d9f8",
   "metadata": {
    "tags": []
   },
   "outputs": [],
   "source": [
    "df = spark.read.csv(\"data/financial_data.csv\", inferSchema=True, header=True)"
   ]
  },
  {
   "cell_type": "code",
   "execution_count": 5,
   "id": "c8e6df37-3c00-41e9-a029-1b8955d25934",
   "metadata": {
    "tags": []
   },
   "outputs": [
    {
     "name": "stdout",
     "output_type": "stream",
     "text": [
      "root\n",
      " |-- step: integer (nullable = true)\n",
      " |-- type: string (nullable = true)\n",
      " |-- amount: double (nullable = true)\n",
      " |-- nameOrig: string (nullable = true)\n",
      " |-- oldbalanceOrg: double (nullable = true)\n",
      " |-- newbalanceOrig: double (nullable = true)\n",
      " |-- nameDest: string (nullable = true)\n",
      " |-- oldbalanceDest: double (nullable = true)\n",
      " |-- newbalanceDest: double (nullable = true)\n",
      " |-- isFraud: integer (nullable = true)\n",
      " |-- isFlaggedFraud: integer (nullable = true)\n",
      "\n"
     ]
    }
   ],
   "source": [
    "df.printSchema()"
   ]
  },
  {
   "cell_type": "code",
   "execution_count": 6,
   "id": "8044be22-409d-49de-a382-9f63f89b2ed6",
   "metadata": {
    "tags": []
   },
   "outputs": [
    {
     "name": "stdout",
     "output_type": "stream",
     "text": [
      "+----+-------+-------+-----------+-------------+--------------+-----------+--------------+--------------+-------+--------------+\n",
      "|step|   type| amount|   nameOrig|oldbalanceOrg|newbalanceOrig|   nameDest|oldbalanceDest|newbalanceDest|isFraud|isFlaggedFraud|\n",
      "+----+-------+-------+-----------+-------------+--------------+-----------+--------------+--------------+-------+--------------+\n",
      "|   1|PAYMENT|9839.64|C1231006815|     170136.0|     160296.36|M1979787155|           0.0|           0.0|      0|             0|\n",
      "|   1|PAYMENT|1864.28|C1666544295|      21249.0|      19384.72|M2044282225|           0.0|           0.0|      0|             0|\n",
      "+----+-------+-------+-----------+-------------+--------------+-----------+--------------+--------------+-------+--------------+\n",
      "only showing top 2 rows\n",
      "\n"
     ]
    }
   ],
   "source": [
    "df.show(2)"
   ]
  },
  {
   "cell_type": "code",
   "execution_count": 7,
   "id": "519ce0a3-b918-4043-964d-1b70157739b9",
   "metadata": {
    "tags": []
   },
   "outputs": [],
   "source": [
    "df = df.select(\"type\", \"amount\", \"oldbalanceOrg\", \"newbalanceOrig\", \"isFraud\")"
   ]
  },
  {
   "cell_type": "code",
   "execution_count": 8,
   "id": "c9a8dd30-9597-4319-8646-b34779f3a3f2",
   "metadata": {
    "tags": []
   },
   "outputs": [
    {
     "name": "stdout",
     "output_type": "stream",
     "text": [
      "+-------+-------+-------------+--------------+-------+\n",
      "|   type| amount|oldbalanceOrg|newbalanceOrig|isFraud|\n",
      "+-------+-------+-------------+--------------+-------+\n",
      "|PAYMENT|9839.64|     170136.0|     160296.36|      0|\n",
      "|PAYMENT|1864.28|      21249.0|      19384.72|      0|\n",
      "+-------+-------+-------------+--------------+-------+\n",
      "only showing top 2 rows\n",
      "\n"
     ]
    }
   ],
   "source": [
    "df.show(2)"
   ]
  },
  {
   "cell_type": "markdown",
   "id": "ecaa12b8-fe84-4401-8763-660e4a2ccf15",
   "metadata": {},
   "source": [
    "## Train/test split"
   ]
  },
  {
   "cell_type": "code",
   "execution_count": 9,
   "id": "9c268984-6866-4618-b3d4-a170b733f22c",
   "metadata": {
    "tags": []
   },
   "outputs": [],
   "source": [
    "train, test = df.randomSplit([0.7, 0.3], seed=7)"
   ]
  },
  {
   "cell_type": "code",
   "execution_count": 10,
   "id": "c5ca1579-22c6-48ad-94e6-d2b6f59ee3db",
   "metadata": {
    "tags": []
   },
   "outputs": [
    {
     "name": "stdout",
     "output_type": "stream",
     "text": [
      "Train set length: 4451877 records\n",
      "Test set length: 1910743 records\n"
     ]
    }
   ],
   "source": [
    "print(f\"Train set length: {train.count()} records\")\n",
    "print(f\"Test set length: {test.count()} records\")"
   ]
  },
  {
   "cell_type": "code",
   "execution_count": 11,
   "id": "618138df-75b5-453d-9f4d-75009d38e90b",
   "metadata": {
    "tags": []
   },
   "outputs": [
    {
     "name": "stdout",
     "output_type": "stream",
     "text": [
      "+-------+------+-------------+--------------+-------+\n",
      "|   type|amount|oldbalanceOrg|newbalanceOrig|isFraud|\n",
      "+-------+------+-------------+--------------+-------+\n",
      "|CASH_IN|  1.42|   1270713.41|    1270714.83|      0|\n",
      "|CASH_IN|  4.35|   4136277.22|    4136281.57|      0|\n",
      "+-------+------+-------------+--------------+-------+\n",
      "only showing top 2 rows\n",
      "\n"
     ]
    }
   ],
   "source": [
    "train.show(2)"
   ]
  },
  {
   "cell_type": "markdown",
   "id": "042c1b2b-befe-40cc-a87d-1dc3f43f38ac",
   "metadata": {},
   "source": [
    "## Dtypes"
   ]
  },
  {
   "cell_type": "code",
   "execution_count": 12,
   "id": "1f480fef-84db-4269-bd87-3580f1e31110",
   "metadata": {
    "tags": []
   },
   "outputs": [
    {
     "data": {
      "text/plain": [
       "[('type', 'string'),\n",
       " ('amount', 'double'),\n",
       " ('oldbalanceOrg', 'double'),\n",
       " ('newbalanceOrig', 'double'),\n",
       " ('isFraud', 'int')]"
      ]
     },
     "execution_count": 12,
     "metadata": {},
     "output_type": "execute_result"
    }
   ],
   "source": [
    "train.dtypes"
   ]
  },
  {
   "cell_type": "code",
   "execution_count": 14,
   "id": "5e5b2abc-def6-4c2d-aa0c-64930040aa07",
   "metadata": {
    "tags": []
   },
   "outputs": [
    {
     "data": {
      "text/plain": [
       "['type']"
      ]
     },
     "execution_count": 14,
     "metadata": {},
     "output_type": "execute_result"
    }
   ],
   "source": [
    "cat_cols = [col for col, data_type in train.dtypes if data_type == \"string\"]\n",
    "cat_cols"
   ]
  },
  {
   "cell_type": "code",
   "execution_count": 15,
   "id": "5fec5e17-800c-4c70-9dbb-60f4871f4325",
   "metadata": {
    "tags": []
   },
   "outputs": [
    {
     "data": {
      "text/plain": [
       "['amount', 'oldbalanceOrg', 'newbalanceOrig']"
      ]
     },
     "execution_count": 15,
     "metadata": {},
     "output_type": "execute_result"
    }
   ],
   "source": [
    "num_cols = [col for col, data_type in train.dtypes if ((data_type == 'double') & (col != \"isFraud\"))]\n",
    "num_cols"
   ]
  },
  {
   "cell_type": "markdown",
   "id": "35277469-8034-43c8-b22c-3d09adc723de",
   "metadata": {},
   "source": [
    "## One hot encoding"
   ]
  },
  {
   "cell_type": "code",
   "execution_count": 17,
   "id": "bc619e9f-ba0c-4dc2-ac1d-04e6756d8d69",
   "metadata": {
    "tags": []
   },
   "outputs": [
    {
     "name": "stdout",
     "output_type": "stream",
     "text": [
      "+-----------+\n",
      "|count(type)|\n",
      "+-----------+\n",
      "|          5|\n",
      "+-----------+\n",
      "\n"
     ]
    }
   ],
   "source": [
    "train.agg(F.countDistinct(\"type\")).show()"
   ]
  },
  {
   "cell_type": "code",
   "execution_count": 18,
   "id": "b1710efb-ae20-4195-9476-2ceea6607cfa",
   "metadata": {
    "tags": []
   },
   "outputs": [
    {
     "name": "stdout",
     "output_type": "stream",
     "text": [
      "+--------+-------+\n",
      "|    type|  count|\n",
      "+--------+-------+\n",
      "|TRANSFER| 372791|\n",
      "| CASH_IN| 979384|\n",
      "|CASH_OUT|1565928|\n",
      "| PAYMENT|1504894|\n",
      "|   DEBIT|  28880|\n",
      "+--------+-------+\n",
      "\n"
     ]
    }
   ],
   "source": [
    "train.groupBy(\"type\").count().show()"
   ]
  },
  {
   "cell_type": "code",
   "execution_count": 19,
   "id": "347d69a2-9329-4d3f-a048-749ba4e82daa",
   "metadata": {
    "tags": []
   },
   "outputs": [],
   "source": [
    "from pyspark.ml.feature import(\n",
    "    OneHotEncoder,\n",
    "    StringIndexer\n",
    ")"
   ]
  },
  {
   "cell_type": "code",
   "execution_count": 21,
   "id": "35729dfe-5376-445b-8d81-39d899bba283",
   "metadata": {
    "tags": []
   },
   "outputs": [],
   "source": [
    "string_indexer = [\n",
    "    StringIndexer(inputCol=col, outputCol=col + \"_StringIndexer\", handleInvalid=\"skip\")\n",
    "    for col in cat_cols\n",
    "]"
   ]
  },
  {
   "cell_type": "code",
   "execution_count": 22,
   "id": "a38a50d2-6859-40af-893d-28d2eedac363",
   "metadata": {
    "tags": []
   },
   "outputs": [
    {
     "data": {
      "text/plain": [
       "[StringIndexer_5b04446eb553]"
      ]
     },
     "execution_count": 22,
     "metadata": {},
     "output_type": "execute_result"
    }
   ],
   "source": [
    "string_indexer"
   ]
  },
  {
   "cell_type": "code",
   "execution_count": 23,
   "id": "613fe684-458e-442e-bad1-ae42c0416141",
   "metadata": {
    "tags": []
   },
   "outputs": [],
   "source": [
    "one_hot_encoder = [\n",
    "    OneHotEncoder(\n",
    "        inputCols=[f\"{col}_StringIndexer\" for col in cat_cols],\n",
    "        outputCols=[f\"{col}_OneHotEncoder\" for col in cat_cols]\n",
    "    )\n",
    "]"
   ]
  },
  {
   "cell_type": "code",
   "execution_count": 24,
   "id": "24033cc1-7593-4c01-af6d-fd9e350366e5",
   "metadata": {
    "tags": []
   },
   "outputs": [
    {
     "data": {
      "text/plain": [
       "[OneHotEncoder_4402695e442a]"
      ]
     },
     "execution_count": 24,
     "metadata": {},
     "output_type": "execute_result"
    }
   ],
   "source": [
    "one_hot_encoder"
   ]
  },
  {
   "cell_type": "markdown",
   "id": "f3319ebf-7892-40ab-9adb-8edb43c242f5",
   "metadata": {},
   "source": [
    "## Vector assembling"
   ]
  },
  {
   "cell_type": "code",
   "execution_count": 26,
   "id": "b08c4340-2ac6-40fb-8d40-c6492187ce53",
   "metadata": {
    "tags": []
   },
   "outputs": [],
   "source": [
    "# Vector assembler combines the values of input columns into a single vector\n",
    "from pyspark.ml.feature import VectorAssembler"
   ]
  },
  {
   "cell_type": "code",
   "execution_count": 30,
   "id": "fc19dcf8-8cca-446f-9168-79ecb1f1c348",
   "metadata": {
    "tags": []
   },
   "outputs": [],
   "source": [
    "assembler_input = [col for col in num_cols]\n",
    "assembler_input += [f\"{col}_OneHotEncoder\" for col in cat_cols]"
   ]
  },
  {
   "cell_type": "code",
   "execution_count": 31,
   "id": "65d3b037-45da-4dc6-95d4-dc9de5859195",
   "metadata": {
    "tags": []
   },
   "outputs": [
    {
     "data": {
      "text/plain": [
       "['amount', 'oldbalanceOrg', 'newbalanceOrig', 'type_OneHotEncoder']"
      ]
     },
     "execution_count": 31,
     "metadata": {},
     "output_type": "execute_result"
    }
   ],
   "source": [
    "assembler_input"
   ]
  },
  {
   "cell_type": "code",
   "execution_count": 32,
   "id": "1dc5f1e1-5103-45f4-a58b-60565147f721",
   "metadata": {
    "tags": []
   },
   "outputs": [],
   "source": [
    "vector_assembler = VectorAssembler(\n",
    "    inputCols=assembler_input, outputCol=\"VectorAssembler_features\"\n",
    ")"
   ]
  },
  {
   "cell_type": "code",
   "execution_count": 33,
   "id": "8ce80e1b-0f73-43af-9b4e-230ec98719b2",
   "metadata": {
    "tags": []
   },
   "outputs": [],
   "source": [
    "# Create a pipeline\n",
    "stages = []\n",
    "stages += string_indexer\n",
    "stages += one_hot_encoder\n",
    "stages += [vector_assembler]"
   ]
  },
  {
   "cell_type": "code",
   "execution_count": 34,
   "id": "7ba9e358-9f48-4ff4-a066-09735492e6af",
   "metadata": {
    "tags": []
   },
   "outputs": [
    {
     "data": {
      "text/plain": [
       "[StringIndexer_5b04446eb553,\n",
       " OneHotEncoder_4402695e442a,\n",
       " VectorAssembler_8627d4496d9f]"
      ]
     },
     "execution_count": 34,
     "metadata": {},
     "output_type": "execute_result"
    }
   ],
   "source": [
    "stages"
   ]
  },
  {
   "cell_type": "code",
   "execution_count": 36,
   "id": "be719faa-370c-4477-85e0-21cab87ff48a",
   "metadata": {
    "tags": []
   },
   "outputs": [
    {
     "name": "stdout",
     "output_type": "stream",
     "text": [
      "CPU times: user 15.8 ms, sys: 5.48 ms, total: 21.3 ms\n",
      "Wall time: 4.17 s\n"
     ]
    }
   ],
   "source": [
    "%%time\n",
    "from pyspark.ml import Pipeline\n",
    "\n",
    "pipeline = Pipeline().setStages(stages)\n",
    "\n",
    "model = pipeline.fit(train)\n",
    "\n",
    "pp_df = model.transform(test)"
   ]
  },
  {
   "cell_type": "code",
   "execution_count": 37,
   "id": "7c5e365c-eb82-4110-a57e-c623ca3bd331",
   "metadata": {
    "tags": []
   },
   "outputs": [
    {
     "name": "stdout",
     "output_type": "stream",
     "text": [
      "+-------+------+-------------+--------------+---------------------------------------------------+\n",
      "|type   |amount|oldbalanceOrg|newbalanceOrig|VectorAssembler_features                           |\n",
      "+-------+------+-------------+--------------+---------------------------------------------------+\n",
      "|CASH_IN|4.58  |94241.0      |94245.58      |[4.58,94241.0,94245.58,0.0,0.0,1.0,0.0]            |\n",
      "|CASH_IN|5.44  |0.0          |5.44          |(7,[0,2,5],[5.44,5.44,1.0])                        |\n",
      "|CASH_IN|6.07  |400680.0     |400686.07     |[6.07,400680.0,400686.07,0.0,0.0,1.0,0.0]          |\n",
      "|CASH_IN|6.76  |11322.0      |11328.76      |[6.76,11322.0,11328.76,0.0,0.0,1.0,0.0]            |\n",
      "|CASH_IN|8.27  |8428410.94   |8428419.21    |[8.27,8428410.94,8428419.21,0.0,0.0,1.0,0.0]       |\n",
      "|CASH_IN|8.44  |39384.0      |39392.44      |[8.44,39384.0,39392.44,0.0,0.0,1.0,0.0]            |\n",
      "|CASH_IN|11.13 |4116439.74   |4116450.87    |[11.13,4116439.74,4116450.87,0.0,0.0,1.0,0.0]      |\n",
      "|CASH_IN|12.79 |601743.0     |601755.79     |[12.79,601743.0,601755.79,0.0,0.0,1.0,0.0]         |\n",
      "|CASH_IN|13.86 |6868100.18   |6868114.04    |[13.86,6868100.18,6868114.04,0.0,0.0,1.0,0.0]      |\n",
      "|CASH_IN|14.54 |3347286.5    |3347301.03    |[14.54,3347286.5,3347301.03,0.0,0.0,1.0,0.0]       |\n",
      "|CASH_IN|15.52 |4368030.06   |4368045.59    |[15.52,4368030.06,4368045.59,0.0,0.0,1.0,0.0]      |\n",
      "|CASH_IN|15.59 |1.64294897E7 |1.642950528E7 |[15.59,1.64294897E7,1.642950528E7,0.0,0.0,1.0,0.0] |\n",
      "|CASH_IN|16.3  |2.140511936E7|2.140513566E7 |[16.3,2.140511936E7,2.140513566E7,0.0,0.0,1.0,0.0] |\n",
      "|CASH_IN|18.53 |951352.78    |951371.31     |[18.53,951352.78,951371.31,0.0,0.0,1.0,0.0]        |\n",
      "|CASH_IN|20.34 |991344.41    |991364.74     |[20.34,991344.41,991364.74,0.0,0.0,1.0,0.0]        |\n",
      "|CASH_IN|22.81 |875946.0     |875968.82     |[22.81,875946.0,875968.82,0.0,0.0,1.0,0.0]         |\n",
      "|CASH_IN|23.14 |1.400007828E7|1.400010142E7 |[23.14,1.400007828E7,1.400010142E7,0.0,0.0,1.0,0.0]|\n",
      "|CASH_IN|24.2  |1.803342949E7|1.803345368E7 |[24.2,1.803342949E7,1.803345368E7,0.0,0.0,1.0,0.0] |\n",
      "|CASH_IN|31.24 |223910.75    |223941.98     |[31.24,223910.75,223941.98,0.0,0.0,1.0,0.0]        |\n",
      "|CASH_IN|34.05 |90282.0      |90316.05      |[34.05,90282.0,90316.05,0.0,0.0,1.0,0.0]           |\n",
      "+-------+------+-------------+--------------+---------------------------------------------------+\n",
      "only showing top 20 rows\n",
      "\n"
     ]
    }
   ],
   "source": [
    "pp_df.select(\n",
    "    \"type\", \"amount\", \"oldbalanceOrg\", \"newbalanceOrig\", \"VectorAssembler_features\"\n",
    ").show(truncate=False)"
   ]
  },
  {
   "cell_type": "markdown",
   "id": "5c63258c-00fb-4173-954c-278846162914",
   "metadata": {},
   "source": [
    "## Logistic regression"
   ]
  },
  {
   "cell_type": "code",
   "execution_count": 38,
   "id": "819522f6-3af0-414a-8e10-efa7222384fc",
   "metadata": {
    "tags": []
   },
   "outputs": [],
   "source": [
    "from pyspark.ml.classification import LogisticRegression"
   ]
  },
  {
   "cell_type": "code",
   "execution_count": 39,
   "id": "4dc7702f-93a4-4748-9af9-c35f9920e31c",
   "metadata": {
    "tags": []
   },
   "outputs": [],
   "source": [
    "data = pp_df.select(\n",
    "    F.col(\"VectorAssembler_features\").alias(\"features\"),\n",
    "    F.col(\"isFraud\").alias(\"label\")\n",
    ")"
   ]
  },
  {
   "cell_type": "code",
   "execution_count": 40,
   "id": "271596e0-c5c6-4d69-b442-ec89133c7f9c",
   "metadata": {
    "tags": []
   },
   "outputs": [
    {
     "name": "stdout",
     "output_type": "stream",
     "text": [
      "+--------------------------------------------+-----+\n",
      "|features                                    |label|\n",
      "+--------------------------------------------+-----+\n",
      "|[4.58,94241.0,94245.58,0.0,0.0,1.0,0.0]     |0    |\n",
      "|(7,[0,2,5],[5.44,5.44,1.0])                 |0    |\n",
      "|[6.07,400680.0,400686.07,0.0,0.0,1.0,0.0]   |0    |\n",
      "|[6.76,11322.0,11328.76,0.0,0.0,1.0,0.0]     |0    |\n",
      "|[8.27,8428410.94,8428419.21,0.0,0.0,1.0,0.0]|0    |\n",
      "+--------------------------------------------+-----+\n",
      "only showing top 5 rows\n",
      "\n"
     ]
    }
   ],
   "source": [
    "data.show(5, truncate=False)"
   ]
  },
  {
   "cell_type": "code",
   "execution_count": 41,
   "id": "70fc3e78-a74e-4380-b4d4-96095e61b668",
   "metadata": {
    "tags": []
   },
   "outputs": [
    {
     "name": "stdout",
     "output_type": "stream",
     "text": [
      "CPU times: user 23.1 ms, sys: 3.89 ms, total: 26.9 ms\n",
      "Wall time: 13.8 s\n"
     ]
    }
   ],
   "source": [
    "%%time \n",
    "model = LogisticRegression().fit(data)"
   ]
  },
  {
   "cell_type": "code",
   "execution_count": 43,
   "id": "6629e04f-fb9c-4b14-a91e-de3df2e00c6b",
   "metadata": {
    "tags": []
   },
   "outputs": [
    {
     "data": {
      "text/plain": [
       "0.9928744818975611"
      ]
     },
     "execution_count": 43,
     "metadata": {},
     "output_type": "execute_result"
    }
   ],
   "source": [
    "model.summary.areaUnderROC"
   ]
  },
  {
   "cell_type": "code",
   "execution_count": 44,
   "id": "5eb8fe05-b7f7-4cbd-be71-49e98e1b6a76",
   "metadata": {
    "tags": []
   },
   "outputs": [
    {
     "name": "stdout",
     "output_type": "stream",
     "text": [
      "+------------------+-------------------+\n",
      "|            recall|          precision|\n",
      "+------------------+-------------------+\n",
      "|               0.0| 0.9127789046653144|\n",
      "|0.3598560575769692| 0.9127789046653144|\n",
      "|0.4838064774090364| 0.6813063063063063|\n",
      "|0.5501799280287885| 0.5362431800467654|\n",
      "| 0.594562175129948| 0.4430870083432658|\n",
      "|0.6309476209516194|0.38060781476121563|\n",
      "|0.6613354658136745|0.33508914100486226|\n",
      "|0.6889244302279088| 0.3009081383164513|\n",
      "|0.7113154738104758|0.27302025782688766|\n",
      "|0.7305077968812475|0.25006843690117714|\n",
      "|0.7477009196321471|0.23097826086956522|\n",
      "|0.7616953218712516|0.21438217420661715|\n",
      "|0.7752898840463814| 0.2003927242662257|\n",
      "|0.7860855657736905|0.18784635964074145|\n",
      "|0.7968812475009996|0.17706112295664533|\n",
      "|0.8000799680127949|0.16611323260833472|\n",
      "|0.8036785285885646|0.15659083826737302|\n",
      "|0.8096761295481807|0.14861294583883752|\n",
      "|0.8128748500599761|0.14102386237513873|\n",
      "|0.8164734106357457| 0.1342890964093121|\n",
      "+------------------+-------------------+\n",
      "only showing top 20 rows\n",
      "\n"
     ]
    }
   ],
   "source": [
    "model.summary.pr.show()"
   ]
  },
  {
   "cell_type": "code",
   "execution_count": null,
   "id": "a1d31d40-f481-45db-8125-41adda3d32ce",
   "metadata": {},
   "outputs": [],
   "source": []
  }
 ],
 "metadata": {
  "kernelspec": {
   "display_name": "Python 3 (ipykernel)",
   "language": "python",
   "name": "python3"
  },
  "language_info": {
   "codemirror_mode": {
    "name": "ipython",
    "version": 3
   },
   "file_extension": ".py",
   "mimetype": "text/x-python",
   "name": "python",
   "nbconvert_exporter": "python",
   "pygments_lexer": "ipython3",
   "version": "3.10.10"
  }
 },
 "nbformat": 4,
 "nbformat_minor": 5
}
